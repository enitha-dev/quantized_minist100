{
 "cells": [
  {
   "cell_type": "code",
   "execution_count": 1,
   "id": "b610f5c5-3e0c-4680-8d35-5b9ca75a5de4",
   "metadata": {},
   "outputs": [
    {
     "name": "stderr",
     "output_type": "stream",
     "text": [
      "C:\\Users\\enith\\AppData\\Local\\Temp\\ipykernel_7904\\2605412115.py:2: DeprecationWarning: \n",
      "Pyarrow will become a required dependency of pandas in the next major release of pandas (pandas 3.0),\n",
      "(to allow more performant data types, such as the Arrow string type, and better interoperability with other libraries)\n",
      "but was not found to be installed on your system.\n",
      "If this would cause problems for you,\n",
      "please provide us feedback at https://github.com/pandas-dev/pandas/issues/54466\n",
      "        \n",
      "  import pandas as pd\n"
     ]
    }
   ],
   "source": [
    "import numpy as np\n",
    "import pandas as pd\n",
    "from matplotlib import pyplot as plt\n",
    "import tensorflow as tf\n",
    "data = pd.read_csv('D:/datasets/train.csv')"
   ]
  },
  {
   "cell_type": "code",
   "execution_count": 2,
   "id": "2733aa0e-c0d9-4059-bcc4-2f7c1a9b996e",
   "metadata": {},
   "outputs": [
    {
     "name": "stdout",
     "output_type": "stream",
     "text": [
      "785\n"
     ]
    },
    {
     "data": {
      "text/plain": [
       "array([9, 5, 1, ..., 2, 9, 4], dtype=int64)"
      ]
     },
     "execution_count": 2,
     "metadata": {},
     "output_type": "execute_result"
    }
   ],
   "source": [
    "data = np.array(data)\n",
    "m, n = data.shape\n",
    "print(n)\n",
    "np.random.shuffle(data) \n",
    "\n",
    "data_dev = data[0:1000].T\n",
    "Y_dev = data_dev[0]\n",
    "X_dev = data_dev[1:n]\n",
    "X_dev = X_dev / 255.\n",
    "\n",
    "data_train = data[1000:m].T\n",
    "Y_train = data_train[0]\n",
    "X_train = data_train[1:n]\n",
    "X_train = X_train / 255.\n",
    "_,m_train = X_train.shape\n",
    "Y_train"
   ]
  },
  {
   "cell_type": "code",
   "execution_count": 3,
   "id": "b0713567-d013-4116-a3e3-799583223366",
   "metadata": {},
   "outputs": [],
   "source": [
    "def init_params():\n",
    "    W1 = np.random.rand(10, 784) - 0.5\n",
    "    b1 = np.random.rand(10, 1) - 0.5\n",
    "    W2 = np.random.rand(10, 10) - 0.5\n",
    "    b2 = np.random.rand(10, 1) - 0.5\n",
    "    return W1, b1, W2, b2"
   ]
  },
  {
   "cell_type": "code",
   "execution_count": 4,
   "id": "47e8b7c0-b9e8-4ee2-b6cd-124675480774",
   "metadata": {},
   "outputs": [],
   "source": [
    "def ReLU(Z):\n",
    "    return np.maximum(Z, 0)"
   ]
  },
  {
   "cell_type": "code",
   "execution_count": 5,
   "id": "73308abc-7a90-461d-8d59-fdd0365a1948",
   "metadata": {},
   "outputs": [],
   "source": [
    "def softmax(Z):\n",
    "    Z = Z.astype(np.float32)\n",
    "    A = np.exp(Z) / np.sum(np.exp(Z), axis=0)\n",
    "    A = A.astype(np.float32)\n",
    "    return A"
   ]
  },
  {
   "cell_type": "code",
   "execution_count": 6,
   "id": "06828a83-224d-48ba-9e76-08a75dc9ac06",
   "metadata": {},
   "outputs": [],
   "source": [
    "def forward_prop(W1, b1, W2, b2, X):\n",
    "    n=8\n",
    "    # Quantize weights \n",
    "    W1_q = quantize(W1, n)  \n",
    "    W2_q = quantize(W2, n)\n",
    "    \n",
    "    # Forward pass\n",
    "    Z1 = W1_q.dot(X) + b1\n",
    "    A1 = ReLU(Z1)\n",
    "    \n",
    "    # Quantize activations\n",
    "    A1_q = quantize(A1, n)   \n",
    "    \n",
    "    Z2 = W2_q.dot(A1_q) + b2\n",
    "    A2 = softmax(Z2)\n",
    "    \n",
    "    return Z1, A1, Z2, A2"
   ]
  },
  {
   "cell_type": "code",
   "execution_count": 7,
   "id": "0810b27f-f337-4673-a97c-9d1b440a0397",
   "metadata": {},
   "outputs": [],
   "source": [
    "def ReLU_deriv(Z):\n",
    "    return Z > 0"
   ]
  },
  {
   "cell_type": "code",
   "execution_count": 8,
   "id": "35451186-8853-4a1e-acbc-737a59ea41ec",
   "metadata": {},
   "outputs": [],
   "source": [
    "def one_hot(Y):\n",
    "    one_hot_Y = np.zeros((Y.size, Y.max() + 1))\n",
    "    one_hot_Y[np.arange(Y.size), Y] = 1\n",
    "    one_hot_Y = one_hot_Y.T\n",
    "    return one_hot_Y"
   ]
  },
  {
   "cell_type": "code",
   "execution_count": 9,
   "id": "cea1b86c-3a62-45c5-bca3-458a79d67259",
   "metadata": {},
   "outputs": [],
   "source": [
    "def backward_prop(Z1, A1, Z2, A2, W1, W2, X, Y):\n",
    "    n=8\n",
    "    one_hot_Y = one_hot(Y)\n",
    "    \n",
    "    # Calculate gradients\n",
    "    dZ2 = A2 - one_hot_Y \n",
    "    dW2 = 1/m * dZ2.dot(A1.T)\n",
    "    db2 = 1/m * np.sum(dZ2)\n",
    "    \n",
    "    dZ1 = W2.T.dot(dZ2) * ReLU_deriv(Z1) \n",
    "    dW1 = 1/m * dZ1.dot(X.T)\n",
    "    db1 = 1/m * np.sum(dZ1)\n",
    "\n",
    "    # Quantize gradients \n",
    "    dW1_q = quantize(dW1, n)\n",
    "    dW2_q = quantize(dW2, n)\n",
    "    db1_q = quantize(db1, n)\n",
    "    db2_q = quantize(db2, n)\n",
    "    \n",
    "    return dW1_q, db1_q, dW2_q, db2_q"
   ]
  },
  {
   "cell_type": "code",
   "execution_count": 10,
   "id": "b5118918-0e57-49c3-9bac-01f66a75e56c",
   "metadata": {},
   "outputs": [],
   "source": [
    "def update_params(W1, b1, W2, b2, dW1, db1, dW2, db2, alpha):\n",
    "    n=8\n",
    "    # Quantize gradients\n",
    "    dW1_q = quantize(dW1, n)\n",
    "    db1_q = quantize(db1, n)\n",
    "    dW2_q = quantize(dW2, n)\n",
    "    db2_q = quantize(db2, n)\n",
    "\n",
    "    # Update weights  \n",
    "    W1 = W1 - alpha * dW1_q \n",
    "    b1 = b1 - alpha * db1_q\n",
    "    W2 = W2 - alpha * dW2_q\n",
    "    b2 = b2 - alpha * db2_q\n",
    "    \n",
    "    return W1, b1, W2, b2"
   ]
  },
  {
   "cell_type": "code",
   "execution_count": 11,
   "id": "4407b5c0-08cf-4ee8-8167-92d6f68222a9",
   "metadata": {},
   "outputs": [],
   "source": [
    "def get_predictions(A2):\n",
    "    return np.argmax(A2, 0)"
   ]
  },
  {
   "cell_type": "code",
   "execution_count": 12,
   "id": "d6d41122-2c66-432e-ae86-4301a914e161",
   "metadata": {},
   "outputs": [],
   "source": [
    "def get_accuracy(predictions, Y):\n",
    "    #print(predictions, Y)\n",
    "    return (np.sum(predictions == Y) / Y.size)*100"
   ]
  },
  {
   "cell_type": "code",
   "execution_count": 13,
   "id": "7ee1fa2c-b6fd-4fac-9b89-0c8ef2e9e77b",
   "metadata": {},
   "outputs": [],
   "source": [
    "def gradient_descent(X, Y, alpha, iterations):\n",
    "    W1, b1, W2, b2 = init_params()\n",
    "    for i in range(iterations):\n",
    "        with tf.device('/device:GPU:0'):\n",
    "            Z1, A1, Z2, A2 = forward_prop(W1, b1, W2, b2, X)\n",
    "            dW1, db1, dW2, db2 = backward_prop(Z1, A1, Z2, A2, W1, W2, X, Y)\n",
    "            W1, b1, W2, b2 = update_params(W1, b1, W2, b2, dW1, db1, dW2, db2, alpha)\n",
    "        if i % 10 == 0:\n",
    "            print(\"Iteration: \", i)\n",
    "            predictions = get_predictions(A2)\n",
    "            print(get_accuracy(predictions, Y))\n",
    "            loss = compute_loss(A2, Y)\n",
    "            print(\"Loss: \", loss)\n",
    "    return W1, b1, W2, b2"
   ]
  },
  {
   "cell_type": "code",
   "execution_count": 14,
   "id": "70f61c8c-02c0-494f-8ed3-e54668da898b",
   "metadata": {},
   "outputs": [],
   "source": [
    "def make_predictions(X, W1, b1, W2, b2):\n",
    "    _, _, _, A2 = forward_prop(W1, b1, W2, b2, X)\n",
    "    predictions = get_predictions(A2)\n",
    "    return predictions"
   ]
  },
  {
   "cell_type": "code",
   "execution_count": 15,
   "id": "2198846a-0ea2-4c50-8cc9-658f0918eda4",
   "metadata": {},
   "outputs": [],
   "source": [
    "def test_prediction(index, W1, b1, W2, b2):\n",
    "    current_image = X_train[:, index, None]\n",
    "    prediction = make_predictions(X_train[:, index, None], W1, b1, W2, b2)\n",
    "    label = Y_train[index]\n",
    "    print(\"Prediction: \", prediction)\n",
    "    print(\"Label: \", label)\n",
    "    \n",
    "    current_image = current_image.reshape((28, 28)) * 255\n",
    "    plt.gray()\n",
    "    plt.imshow(current_image, interpolation='nearest')\n",
    "    plt.show()"
   ]
  },
  {
   "cell_type": "code",
   "execution_count": 16,
   "id": "22fa196d-2cdc-4d72-8d14-1f3f8bbfe36a",
   "metadata": {},
   "outputs": [],
   "source": [
    "def quantize(vals, n):\n",
    "    scale = 2**n - 1\n",
    "    q_vals = np.clip(vals * scale, -scale, scale)\n",
    "    q_vals = np.fix(q_vals) / scale\n",
    "    return q_vals"
   ]
  },
  {
   "cell_type": "code",
   "execution_count": 17,
   "id": "605ab98b-b964-4911-a5f4-a65e608e5be5",
   "metadata": {},
   "outputs": [],
   "source": [
    "def compute_loss(A2, Y):\n",
    "    one_hot_Y = one_hot(Y)\n",
    "    loss = np.maximum(0, 1 - one_hot_Y * A2)\n",
    "    return np.mean(loss)"
   ]
  },
  {
   "cell_type": "code",
   "execution_count": null,
   "id": "1697ed5e-ee45-4302-83d5-7e5ec79bc858",
   "metadata": {},
   "outputs": [
    {
     "name": "stdout",
     "output_type": "stream",
     "text": [
      "Iteration:  0\n",
      "8.329268292682928\n",
      "Loss:  0.9898812562348145\n",
      "Iteration:  10\n",
      "8.982926829268292\n",
      "Loss:  0.9897067337596971\n",
      "Iteration:  20\n",
      "9.72439024390244\n",
      "Loss:  0.9895692293077287\n",
      "Iteration:  30\n",
      "10.5\n",
      "Loss:  0.9894586778915601\n",
      "Iteration:  40\n",
      "11.219512195121952\n",
      "Loss:  0.9893670665627482\n",
      "Iteration:  50\n",
      "11.94390243902439\n",
      "Loss:  0.9892799253519283\n",
      "Iteration:  60\n",
      "12.519512195121951\n",
      "Loss:  0.9892063313327843\n",
      "Iteration:  70\n",
      "13.05609756097561\n",
      "Loss:  0.9891381972647135\n",
      "Iteration:  80\n",
      "13.560975609756099\n",
      "Loss:  0.9890774305882818\n",
      "Iteration:  90\n",
      "14.046341463414635\n",
      "Loss:  0.9890210619804132\n",
      "Iteration:  100\n",
      "14.324390243902437\n",
      "Loss:  0.9889707034275935\n",
      "Iteration:  110\n",
      "14.57560975609756\n",
      "Loss:  0.9889217921236053\n",
      "Iteration:  120\n",
      "14.880487804878047\n",
      "Loss:  0.9888709280756915\n",
      "Iteration:  130\n",
      "15.13170731707317\n",
      "Loss:  0.988829625422871\n",
      "Iteration:  140\n",
      "15.392682926829268\n",
      "Loss:  0.9887825103267528\n",
      "Iteration:  150\n",
      "16.134146341463413\n",
      "Loss:  0.9887442032686184\n",
      "Iteration:  160\n",
      "16.695121951219512\n",
      "Loss:  0.9887015650095918\n",
      "Iteration:  170\n",
      "17.18048780487805\n",
      "Loss:  0.9886606694531695\n",
      "Iteration:  180\n",
      "17.817073170731707\n",
      "Loss:  0.9886250402251168\n",
      "Iteration:  190\n",
      "18.195121951219512\n",
      "Loss:  0.9885807526660765\n",
      "Iteration:  200\n",
      "18.346341463414635\n",
      "Loss:  0.9885382742778057\n",
      "Iteration:  210\n",
      "18.78048780487805\n",
      "Loss:  0.988498386705317\n",
      "Iteration:  220\n",
      "19.158536585365855\n",
      "Loss:  0.9884553789381346\n",
      "Iteration:  230\n",
      "19.834146341463416\n",
      "Loss:  0.9884099673143883\n",
      "Iteration:  240\n",
      "20.08048780487805\n",
      "Loss:  0.9883600278531814\n",
      "Iteration:  250\n",
      "21.60487804878049\n",
      "Loss:  0.9883068490185093\n",
      "Iteration:  260\n",
      "22.046341463414635\n",
      "Loss:  0.9882590099910524\n",
      "Iteration:  270\n",
      "22.45609756097561\n",
      "Loss:  0.9882032489202554\n",
      "Iteration:  280\n",
      "22.73658536585366\n",
      "Loss:  0.9881461896508478\n",
      "Iteration:  290\n",
      "23.00487804878049\n",
      "Loss:  0.9880767594230111\n",
      "Iteration:  300\n",
      "23.18536585365854\n",
      "Loss:  0.9880142264925852\n",
      "Iteration:  310\n",
      "23.51219512195122\n",
      "Loss:  0.987949837105242\n",
      "Iteration:  320\n",
      "23.629268292682926\n",
      "Loss:  0.987874519802405\n",
      "Iteration:  330\n",
      "24.08780487804878\n",
      "Loss:  0.9877849361152774\n",
      "Iteration:  340\n",
      "23.643902439024387\n",
      "Loss:  0.9877053022434685\n",
      "Iteration:  350\n",
      "24.234146341463415\n",
      "Loss:  0.9876133155040148\n",
      "Iteration:  360\n",
      "25.507317073170732\n",
      "Loss:  0.9875207219959078\n",
      "Iteration:  370\n",
      "25.89268292682927\n",
      "Loss:  0.9874182028676747\n",
      "Iteration:  380\n",
      "26.28780487804878\n",
      "Loss:  0.987337517514307\n",
      "Iteration:  390\n",
      "26.68048780487805\n",
      "Loss:  0.9872506704326287\n",
      "Iteration:  400\n",
      "27.0609756097561\n",
      "Loss:  0.9871622998273114\n",
      "Iteration:  410\n",
      "27.480487804878052\n",
      "Loss:  0.9870747771279024\n"
     ]
    }
   ],
   "source": [
    "W1, b1, W2, b2 = gradient_descent(X_train, Y_train, 0.01, 1500)"
   ]
  },
  {
   "cell_type": "code",
   "execution_count": null,
   "id": "89079630-3bd1-488e-9774-41720b851565",
   "metadata": {},
   "outputs": [],
   "source": [
    "test_prediction(0, W1, b1, W2, b2)\n",
    "test_prediction(1, W1, b1, W2, b2)\n",
    "test_prediction(2, W1, b1, W2, b2)\n",
    "test_prediction(3, W1, b1, W2, b2)"
   ]
  },
  {
   "cell_type": "code",
   "execution_count": null,
   "id": "04a4a032-cacd-484f-bc2e-932e80fa50fe",
   "metadata": {},
   "outputs": [],
   "source": [
    "dev_predictions = make_predictions(X_dev, W1, b1, W2, b2)"
   ]
  },
  {
   "cell_type": "code",
   "execution_count": null,
   "id": "190df447-bbeb-4e55-a8e1-cf5a655283c1",
   "metadata": {},
   "outputs": [],
   "source": [
    "print(\"Accuracy:\",get_accuracy(dev_predictions, Y_dev))"
   ]
  },
  {
   "cell_type": "code",
   "execution_count": null,
   "id": "1532f345-0c14-4e1c-a598-e0fe45a432ff",
   "metadata": {},
   "outputs": [],
   "source": []
  },
  {
   "cell_type": "code",
   "execution_count": null,
   "id": "967bf5ef-bb35-4385-8071-9b5347446e26",
   "metadata": {},
   "outputs": [],
   "source": []
  },
  {
   "cell_type": "code",
   "execution_count": null,
   "id": "d92d0989-995c-43b3-9a19-f65542cb2ec3",
   "metadata": {},
   "outputs": [],
   "source": []
  },
  {
   "cell_type": "code",
   "execution_count": null,
   "id": "28a0d7fa-ee72-424f-b84c-587a579ef505",
   "metadata": {},
   "outputs": [],
   "source": []
  },
  {
   "cell_type": "code",
   "execution_count": null,
   "id": "01d2fa6e-5bc7-4e37-936d-6eadd3bfddaf",
   "metadata": {},
   "outputs": [],
   "source": []
  },
  {
   "cell_type": "code",
   "execution_count": null,
   "id": "23cf6481-e4b4-416b-89a0-d963c102257a",
   "metadata": {},
   "outputs": [],
   "source": []
  },
  {
   "cell_type": "code",
   "execution_count": null,
   "id": "be5e359b-9293-47ff-8b95-99296af2e07a",
   "metadata": {},
   "outputs": [],
   "source": []
  },
  {
   "cell_type": "code",
   "execution_count": null,
   "id": "2e2589ec-deb3-470b-8423-a9c1eadc9eb5",
   "metadata": {},
   "outputs": [],
   "source": []
  },
  {
   "cell_type": "code",
   "execution_count": null,
   "id": "6660be53-fb92-4f87-ae2e-e660303e1cb3",
   "metadata": {},
   "outputs": [],
   "source": []
  },
  {
   "cell_type": "code",
   "execution_count": null,
   "id": "70dd21ed-655b-483f-af39-39bdb2a1df65",
   "metadata": {},
   "outputs": [],
   "source": []
  },
  {
   "cell_type": "code",
   "execution_count": null,
   "id": "23d262a9-749b-45f1-a75a-86097ddb9e29",
   "metadata": {},
   "outputs": [],
   "source": []
  },
  {
   "cell_type": "code",
   "execution_count": null,
   "id": "eb30edb8-93a0-483b-911c-30971aaf31cd",
   "metadata": {},
   "outputs": [],
   "source": [
    "."
   ]
  }
 ],
 "metadata": {
  "kernelspec": {
   "display_name": "Python 3 (ipykernel)",
   "language": "python",
   "name": "python3"
  },
  "language_info": {
   "codemirror_mode": {
    "name": "ipython",
    "version": 3
   },
   "file_extension": ".py",
   "mimetype": "text/x-python",
   "name": "python",
   "nbconvert_exporter": "python",
   "pygments_lexer": "ipython3",
   "version": "3.12.2"
  }
 },
 "nbformat": 4,
 "nbformat_minor": 5
}
