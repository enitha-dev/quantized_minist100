{
 "cells": [
  {
   "cell_type": "code",
   "execution_count": 49,
   "id": "b610f5c5-3e0c-4680-8d35-5b9ca75a5de4",
   "metadata": {},
   "outputs": [],
   "source": [
    "import numpy as np\n",
    "import pandas as pd\n",
    "from matplotlib import pyplot as plt\n",
    "import tensorflow as tf\n",
    "data = pd.read_csv('D:/datasets/train.csv')"
   ]
  },
  {
   "cell_type": "code",
   "execution_count": 50,
   "id": "2733aa0e-c0d9-4059-bcc4-2f7c1a9b996e",
   "metadata": {},
   "outputs": [
    {
     "name": "stdout",
     "output_type": "stream",
     "text": [
      "785\n"
     ]
    },
    {
     "data": {
      "text/plain": [
       "array([6, 1, 9, ..., 2, 6, 1], dtype=int64)"
      ]
     },
     "execution_count": 50,
     "metadata": {},
     "output_type": "execute_result"
    }
   ],
   "source": [
    "data = np.array(data)\n",
    "m, n = data.shape\n",
    "print(n)\n",
    "np.random.shuffle(data) \n",
    "\n",
    "data_dev = data[0:1000].T\n",
    "Y_dev = data_dev[0]\n",
    "X_dev = data_dev[1:n]\n",
    "X_dev = X_dev / 255.\n",
    "\n",
    "data_train = data[1000:m].T\n",
    "Y_train = data_train[0]\n",
    "X_train = data_train[1:n]\n",
    "X_train = X_train / 255.\n",
    "_,m_train = X_train.shape\n",
    "Y_train"
   ]
  },
  {
   "cell_type": "code",
   "execution_count": 51,
   "id": "b0713567-d013-4116-a3e3-799583223366",
   "metadata": {},
   "outputs": [],
   "source": [
    "def init_params():\n",
    "    W1 = np.random.rand(10, 784) - 0.5\n",
    "    b1 = np.random.rand(10, 1) - 0.5\n",
    "    W2 = np.random.rand(10, 10) - 0.5\n",
    "    b2 = np.random.rand(10, 1) - 0.5\n",
    "    return W1, b1, W2, b2"
   ]
  },
  {
   "cell_type": "code",
   "execution_count": 52,
   "id": "47e8b7c0-b9e8-4ee2-b6cd-124675480774",
   "metadata": {},
   "outputs": [],
   "source": [
    "def ReLU(Z):\n",
    "    return np.maximum(Z, 0)"
   ]
  },
  {
   "cell_type": "code",
   "execution_count": 53,
   "id": "73308abc-7a90-461d-8d59-fdd0365a1948",
   "metadata": {},
   "outputs": [],
   "source": [
    "def softmax(Z):\n",
    "    Z = Z.astype(np.float32)\n",
    "    A = np.exp(Z) / np.sum(np.exp(Z), axis=0)\n",
    "    A = A.astype(np.float32)\n",
    "    return A"
   ]
  },
  {
   "cell_type": "code",
   "execution_count": 54,
   "id": "06828a83-224d-48ba-9e76-08a75dc9ac06",
   "metadata": {},
   "outputs": [],
   "source": [
    "def forward_prop(W1, b1, W2, b2, X):\n",
    "    n=8\n",
    "    # Quantize weights \n",
    "    W1_q = quantize(W1, n)  \n",
    "    W2_q = quantize(W2, n)\n",
    "    \n",
    "    # Forward pass\n",
    "    Z1 = W1_q.dot(X) + b1\n",
    "    A1 = ReLU(Z1)\n",
    "    \n",
    "    # Quantize activations\n",
    "    A1_q = quantize(A1, n)   \n",
    "    \n",
    "    Z2 = W2_q.dot(A1_q) + b2\n",
    "    A2 = softmax(Z2)\n",
    "    \n",
    "    return Z1, A1, Z2, A2"
   ]
  },
  {
   "cell_type": "code",
   "execution_count": 55,
   "id": "0810b27f-f337-4673-a97c-9d1b440a0397",
   "metadata": {},
   "outputs": [],
   "source": [
    "def ReLU_deriv(Z):\n",
    "    return Z > 0"
   ]
  },
  {
   "cell_type": "code",
   "execution_count": 56,
   "id": "35451186-8853-4a1e-acbc-737a59ea41ec",
   "metadata": {},
   "outputs": [],
   "source": [
    "def one_hot(Y):\n",
    "    one_hot_Y = np.zeros((Y.size, Y.max() + 1))\n",
    "    one_hot_Y[np.arange(Y.size), Y] = 1\n",
    "    one_hot_Y = one_hot_Y.T\n",
    "    return one_hot_Y"
   ]
  },
  {
   "cell_type": "code",
   "execution_count": 57,
   "id": "cea1b86c-3a62-45c5-bca3-458a79d67259",
   "metadata": {},
   "outputs": [],
   "source": [
    "def backward_prop(Z1, A1, Z2, A2, W1, W2, X, Y):\n",
    "    n=8\n",
    "    one_hot_Y = one_hot(Y)\n",
    "    \n",
    "    # Calculate gradients\n",
    "    dZ2 = A2 - one_hot_Y \n",
    "    dW2 = 1/m * dZ2.dot(A1.T)\n",
    "    db2 = 1/m * np.sum(dZ2)\n",
    "    \n",
    "    dZ1 = W2.T.dot(dZ2) * ReLU_deriv(Z1) \n",
    "    dW1 = 1/m * dZ1.dot(X.T)\n",
    "    db1 = 1/m * np.sum(dZ1)\n",
    "\n",
    "    # Quantize gradients \n",
    "    dW1_q = quantize(dW1, n)\n",
    "    dW2_q = quantize(dW2, n)\n",
    "    db1_q = quantize(db1, n)\n",
    "    db2_q = quantize(db2, n)\n",
    "    \n",
    "    return dW1_q, db1_q, dW2_q, db2_q"
   ]
  },
  {
   "cell_type": "code",
   "execution_count": 58,
   "id": "b5118918-0e57-49c3-9bac-01f66a75e56c",
   "metadata": {},
   "outputs": [],
   "source": [
    "def update_params(W1, b1, W2, b2, dW1, db1, dW2, db2, alpha):\n",
    "    n=8\n",
    "    # Quantize gradients\n",
    "    dW1_q = quantize(dW1, n)\n",
    "    db1_q = quantize(db1, n)\n",
    "    dW2_q = quantize(dW2, n)\n",
    "    db2_q = quantize(db2, n)\n",
    "\n",
    "    # Update weights  \n",
    "    W1 = W1 - alpha * dW1_q \n",
    "    b1 = b1 - alpha * db1_q\n",
    "    W2 = W2 - alpha * dW2_q\n",
    "    b2 = b2 - alpha * db2_q\n",
    "    \n",
    "    return W1, b1, W2, b2"
   ]
  },
  {
   "cell_type": "code",
   "execution_count": 59,
   "id": "4407b5c0-08cf-4ee8-8167-92d6f68222a9",
   "metadata": {},
   "outputs": [],
   "source": [
    "def get_predictions(A2):\n",
    "    return np.argmax(A2, 0)"
   ]
  },
  {
   "cell_type": "code",
   "execution_count": 60,
   "id": "d6d41122-2c66-432e-ae86-4301a914e161",
   "metadata": {},
   "outputs": [],
   "source": [
    "def get_accuracy(predictions, Y):\n",
    "    #print(predictions, Y)\n",
    "    return (np.sum(predictions == Y) / Y.size)*100"
   ]
  },
  {
   "cell_type": "code",
   "execution_count": 61,
   "id": "7ee1fa2c-b6fd-4fac-9b89-0c8ef2e9e77b",
   "metadata": {},
   "outputs": [],
   "source": [
    "def gradient_descent(X, Y, alpha, iterations):\n",
    "    W1, b1, W2, b2 = init_params()\n",
    "    for i in range(iterations):\n",
    "        with tf.device('/device:GPU:0'):\n",
    "            Z1, A1, Z2, A2 = forward_prop(W1, b1, W2, b2, X)\n",
    "            dW1, db1, dW2, db2 = backward_prop(Z1, A1, Z2, A2, W1, W2, X, Y)\n",
    "            W1, b1, W2, b2 = update_params(W1, b1, W2, b2, dW1, db1, dW2, db2, alpha)\n",
    "        if i % 10 == 0:\n",
    "            print(\"Iteration: \", i)\n",
    "            predictions = get_predictions(A2)\n",
    "            print(get_accuracy(predictions, Y))\n",
    "            loss = compute_loss(A2, Y)\n",
    "            print(\"Loss: \", loss)\n",
    "    return W1, b1, W2, b2"
   ]
  },
  {
   "cell_type": "code",
   "execution_count": 62,
   "id": "70f61c8c-02c0-494f-8ed3-e54668da898b",
   "metadata": {},
   "outputs": [],
   "source": [
    "def make_predictions(X, W1, b1, W2, b2):\n",
    "    _, _, _, A2 = forward_prop(W1, b1, W2, b2, X)\n",
    "    predictions = get_predictions(A2)\n",
    "    return predictions"
   ]
  },
  {
   "cell_type": "code",
   "execution_count": 63,
   "id": "2198846a-0ea2-4c50-8cc9-658f0918eda4",
   "metadata": {},
   "outputs": [],
   "source": [
    "def test_prediction(index, W1, b1, W2, b2):\n",
    "    current_image = X_train[:, index, None]\n",
    "    prediction = make_predictions(X_train[:, index, None], W1, b1, W2, b2)\n",
    "    label = Y_train[index]\n",
    "    print(\"Prediction: \", prediction)\n",
    "    print(\"Label: \", label)\n",
    "    \n",
    "    current_image = current_image.reshape((28, 28)) * 255\n",
    "    plt.gray()\n",
    "    plt.imshow(current_image, interpolation='nearest')\n",
    "    plt.show()"
   ]
  },
  {
   "cell_type": "code",
   "execution_count": 64,
   "id": "22fa196d-2cdc-4d72-8d14-1f3f8bbfe36a",
   "metadata": {},
   "outputs": [],
   "source": [
    "def quantize(vals, n):\n",
    "    scale = 2**n - 1\n",
    "    q_vals = np.clip(vals * scale, -scale, scale)\n",
    "    q_vals = np.fix(q_vals) / scale\n",
    "    return q_vals"
   ]
  },
  {
   "cell_type": "code",
   "execution_count": 65,
   "id": "605ab98b-b964-4911-a5f4-a65e608e5be5",
   "metadata": {},
   "outputs": [],
   "source": [
    "def compute_loss(A2, Y):\n",
    "    one_hot_Y = one_hot(Y)\n",
    "    loss = -np.sum(one_hot_Y * np.log(A2)) / Y.size\n",
    "    return loss"
   ]
  },
  {
   "cell_type": "code",
   "execution_count": 66,
   "id": "1697ed5e-ee45-4302-83d5-7e5ec79bc858",
   "metadata": {},
   "outputs": [
    {
     "name": "stdout",
     "output_type": "stream",
     "text": [
      "Iteration:  0\n",
      "9.929268292682927\n",
      "Loss:  2.486475373869989\n",
      "Iteration:  10\n",
      "34.36585365853659\n",
      "Loss:  1.948497631685036\n",
      "Iteration:  20\n",
      "33.146341463414636\n",
      "Loss:  1.8872255380240883\n",
      "Iteration:  30\n",
      "34.99756097560975\n",
      "Loss:  1.778130449042451\n",
      "Iteration:  40\n",
      "32.27804878048781\n",
      "Loss:  1.8738749781777946\n",
      "Iteration:  50\n",
      "34.58536585365854\n",
      "Loss:  1.8742506971123014\n",
      "Iteration:  60\n",
      "36.260975609756095\n",
      "Loss:  1.8886457263612892\n",
      "Iteration:  70\n",
      "33.50487804878049\n",
      "Loss:  1.9736983149516873\n",
      "Iteration:  80\n",
      "31.139024390243904\n",
      "Loss:  2.0625201338435093\n",
      "Iteration:  90\n",
      "27.343902439024394\n",
      "Loss:  2.1497130686110113\n"
     ]
    }
   ],
   "source": [
    "W1, b1, W2, b2 = gradient_descent(X_train, Y_train, 0.5, 100)"
   ]
  },
  {
   "cell_type": "code",
   "execution_count": 67,
   "id": "89079630-3bd1-488e-9774-41720b851565",
   "metadata": {},
   "outputs": [
    {
     "name": "stdout",
     "output_type": "stream",
     "text": [
      "Prediction:  [0]\n",
      "Label:  6\n"
     ]
    },
    {
     "data": {
      "image/png": "[encoded data removed]",
      "text/plain": [
       "<Figure size 640x480 with 1 Axes>"
      ]
     },
     "metadata": {},
     "output_type": "display_data"
    },
    {
     "name": "stdout",
     "output_type": "stream",
     "text": [
      "Prediction:  [0]\n",
      "Label:  1\n"
     ]
    },
    {
     "data": {
      "image/png": "[encoded data removed]",
      "text/plain": [
       "<Figure size 640x480 with 1 Axes>"
      ]
     },
     "metadata": {},
     "output_type": "display_data"
    },
    {
     "name": "stdout",
     "output_type": "stream",
     "text": [
      "Prediction:  [4]\n",
      "Label:  9\n"
     ]
    },
    {
     "data": {
      "image/png": "[encoded data removed]",
      "text/plain": [
       "<Figure size 640x480 with 1 Axes>"
      ]
     },
     "metadata": {},
     "output_type": "display_data"
    },
    {
     "name": "stdout",
     "output_type": "stream",
     "text": [
      "Prediction:  [5]\n",
      "Label:  5\n"
     ]
    },
    {
     "data": {
      "image/png": "[encoded data removed]",
      "text/plain": [
       "<Figure size 640x480 with 1 Axes>"
      ]
     },
     "metadata": {},
     "output_type": "display_data"
    }
   ],
   "source": [
    "test_prediction(0, W1, b1, W2, b2)\n",
    "test_prediction(1, W1, b1, W2, b2)\n",
    "test_prediction(2, W1, b1, W2, b2)\n",
    "test_prediction(3, W1, b1, W2, b2)"
   ]
  },
  {
   "cell_type": "code",
   "execution_count": 68,
   "id": "04a4a032-cacd-484f-bc2e-932e80fa50fe",
   "metadata": {},
   "outputs": [],
   "source": [
    "dev_predictions = make_predictions(X_dev, W1, b1, W2, b2)"
   ]
  },
  {
   "cell_type": "code",
   "execution_count": 69,
   "id": "190df447-bbeb-4e55-a8e1-cf5a655283c1",
   "metadata": {},
   "outputs": [
    {
     "name": "stdout",
     "output_type": "stream",
     "text": [
      "Accuracy: 24.2\n"
     ]
    }
   ],
   "source": [
    "print(\"Accuracy:\",get_accuracy(dev_predictions, Y_dev))"
   ]
  },
  {
   "cell_type": "code",
   "execution_count": null,
   "id": "14327a78-06ef-4f6a-8bf9-1a52a683246c",
   "metadata": {},
   "outputs": [],
   "source": []
  },
  {
   "cell_type": "code",
   "execution_count": null,
   "id": "1532f345-0c14-4e1c-a598-e0fe45a432ff",
   "metadata": {},
   "outputs": [],
   "source": []
  },
  {
   "cell_type": "code",
   "execution_count": null,
   "id": "967bf5ef-bb35-4385-8071-9b5347446e26",
   "metadata": {},
   "outputs": [],
   "source": []
  },
  {
   "cell_type": "code",
   "execution_count": null,
   "id": "d92d0989-995c-43b3-9a19-f65542cb2ec3",
   "metadata": {},
   "outputs": [],
   "source": []
  },
  {
   "cell_type": "code",
   "execution_count": null,
   "id": "28a0d7fa-ee72-424f-b84c-587a579ef505",
   "metadata": {},
   "outputs": [],
   "source": []
  },
  {
   "cell_type": "code",
   "execution_count": null,
   "id": "01d2fa6e-5bc7-4e37-936d-6eadd3bfddaf",
   "metadata": {},
   "outputs": [],
   "source": []
  },
  {
   "cell_type": "code",
   "execution_count": null,
   "id": "23cf6481-e4b4-416b-89a0-d963c102257a",
   "metadata": {},
   "outputs": [],
   "source": []
  }
 ],
 "metadata": {
  "kernelspec": {
   "display_name": "Python 3 (ipykernel)",
   "language": "python",
   "name": "python3"
  },
  "language_info": {
   "codemirror_mode": {
    "name": "ipython",
    "version": 3
   },
   "file_extension": ".py",
   "mimetype": "text/x-python",
   "name": "python",
   "nbconvert_exporter": "python",
   "pygments_lexer": "ipython3",
   "version": "3.12.2"
  }
 },
 "nbformat": 4,
 "nbformat_minor": 5
}
