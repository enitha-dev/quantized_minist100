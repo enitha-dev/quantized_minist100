{
 "cells": [
  {
   "cell_type": "code",
   "execution_count": 1,
   "id": "b610f5c5-3e0c-4680-8d35-5b9ca75a5de4",
   "metadata": {},
   "outputs": [
    {
     "name": "stderr",
     "output_type": "stream",
     "text": [
      "C:\\Users\\enith\\AppData\\Local\\Temp\\ipykernel_15556\\2605412115.py:2: DeprecationWarning: \n",
      "Pyarrow will become a required dependency of pandas in the next major release of pandas (pandas 3.0),\n",
      "(to allow more performant data types, such as the Arrow string type, and better interoperability with other libraries)\n",
      "but was not found to be installed on your system.\n",
      "If this would cause problems for you,\n",
      "please provide us feedback at https://github.com/pandas-dev/pandas/issues/54466\n",
      "        \n",
      "  import pandas as pd\n"
     ]
    }
   ],
   "source": [
    "import numpy as np\n",
    "import pandas as pd\n",
    "from matplotlib import pyplot as plt\n",
    "import tensorflow as tf\n",
    "data = pd.read_csv('D:/datasets/train.csv')"
   ]
  },
  {
   "cell_type": "code",
   "execution_count": 2,
   "id": "2733aa0e-c0d9-4059-bcc4-2f7c1a9b996e",
   "metadata": {},
   "outputs": [
    {
     "name": "stdout",
     "output_type": "stream",
     "text": [
      "785\n"
     ]
    },
    {
     "data": {
      "text/plain": [
       "array([1, 8, 3, ..., 8, 1, 3], dtype=int64)"
      ]
     },
     "execution_count": 2,
     "metadata": {},
     "output_type": "execute_result"
    }
   ],
   "source": [
    "data = np.array(data)\n",
    "m, n = data.shape\n",
    "print(n)\n",
    "np.random.shuffle(data) \n",
    "\n",
    "data_dev = data[0:1000].T\n",
    "Y_dev = data_dev[0]\n",
    "X_dev = data_dev[1:n]\n",
    "X_dev = X_dev / 255.\n",
    "\n",
    "data_train = data[1000:m].T\n",
    "Y_train = data_train[0]\n",
    "X_train = data_train[1:n]\n",
    "X_train = X_train / 255.\n",
    "_,m_train = X_train.shape\n",
    "Y_train"
   ]
  },
  {
   "cell_type": "code",
   "execution_count": 3,
   "id": "b0713567-d013-4116-a3e3-799583223366",
   "metadata": {},
   "outputs": [],
   "source": [
    "def init_params():\n",
    "    W1 = np.random.rand(10, 784) - 0.5\n",
    "    b1 = np.random.rand(10, 1) - 0.5\n",
    "    W2 = np.random.rand(10, 10) - 0.5\n",
    "    b2 = np.random.rand(10, 1) - 0.5\n",
    "    return W1, b1, W2, b2"
   ]
  },
  {
   "cell_type": "code",
   "execution_count": 4,
   "id": "47e8b7c0-b9e8-4ee2-b6cd-124675480774",
   "metadata": {},
   "outputs": [],
   "source": [
    "def ReLU(Z):\n",
    "    return np.maximum(Z, 0)"
   ]
  },
  {
   "cell_type": "code",
   "execution_count": 5,
   "id": "73308abc-7a90-461d-8d59-fdd0365a1948",
   "metadata": {},
   "outputs": [],
   "source": [
    "def softmax(Z):\n",
    "    Z = Z.astype(np.float32)\n",
    "    A = np.exp(Z) / np.sum(np.exp(Z), axis=0)\n",
    "    A = A.astype(np.float32)\n",
    "    return A"
   ]
  },
  {
   "cell_type": "code",
   "execution_count": 6,
   "id": "06828a83-224d-48ba-9e76-08a75dc9ac06",
   "metadata": {},
   "outputs": [],
   "source": [
    "def forward_prop(W1, b1, W2, b2, X):\n",
    "    n=8\n",
    "    # Quantize weights \n",
    "    W1_q = quantize(W1, n)  \n",
    "    W2_q = quantize(W2, n)\n",
    "    \n",
    "    # Forward pass\n",
    "    Z1 = W1_q.dot(X) + b1\n",
    "    A1 = ReLU(Z1)\n",
    "    \n",
    "    # Quantize activations\n",
    "    A1_q = quantize(A1, n)   \n",
    "    \n",
    "    Z2 = W2_q.dot(A1_q) + b2\n",
    "    A2 = softmax(Z2)\n",
    "    \n",
    "    return Z1, A1, Z2, A2"
   ]
  },
  {
   "cell_type": "code",
   "execution_count": 7,
   "id": "0810b27f-f337-4673-a97c-9d1b440a0397",
   "metadata": {},
   "outputs": [],
   "source": [
    "def ReLU_deriv(Z):\n",
    "    return Z > 0"
   ]
  },
  {
   "cell_type": "code",
   "execution_count": 8,
   "id": "35451186-8853-4a1e-acbc-737a59ea41ec",
   "metadata": {},
   "outputs": [],
   "source": [
    "def one_hot(Y):\n",
    "    one_hot_Y = np.zeros((Y.size, Y.max() + 1))\n",
    "    one_hot_Y[np.arange(Y.size), Y] = 1\n",
    "    one_hot_Y = one_hot_Y.T\n",
    "    return one_hot_Y"
   ]
  },
  {
   "cell_type": "code",
   "execution_count": 9,
   "id": "cea1b86c-3a62-45c5-bca3-458a79d67259",
   "metadata": {},
   "outputs": [],
   "source": [
    "def backward_prop(Z1, A1, Z2, A2, W1, W2, X, Y):\n",
    "    n=8\n",
    "    one_hot_Y = one_hot(Y)\n",
    "    \n",
    "    # Calculate gradients\n",
    "    dZ2 = A2 - one_hot_Y \n",
    "    dW2 = 1/m * dZ2.dot(A1.T)\n",
    "    db2 = 1/m * np.sum(dZ2)\n",
    "    \n",
    "    dZ1 = W2.T.dot(dZ2) * ReLU_deriv(Z1) \n",
    "    dW1 = 1/m * dZ1.dot(X.T)\n",
    "    db1 = 1/m * np.sum(dZ1)\n",
    "\n",
    "    # Quantize gradients \n",
    "    dW1_q = quantize(dW1, n)\n",
    "    dW2_q = quantize(dW2, n)\n",
    "    db1_q = quantize(db1, n)\n",
    "    db2_q = quantize(db2, n)\n",
    "    \n",
    "    return dW1_q, db1_q, dW2_q, db2_q"
   ]
  },
  {
   "cell_type": "code",
   "execution_count": 10,
   "id": "b5118918-0e57-49c3-9bac-01f66a75e56c",
   "metadata": {},
   "outputs": [],
   "source": [
    "def update_params(W1, b1, W2, b2, dW1, db1, dW2, db2, alpha):\n",
    "    n=8\n",
    "    # Quantize gradients\n",
    "    dW1_q = quantize(dW1, n)\n",
    "    db1_q = quantize(db1, n)\n",
    "    dW2_q = quantize(dW2, n)\n",
    "    db2_q = quantize(db2, n)\n",
    "\n",
    "    # Update weights  \n",
    "    W1 = W1 - alpha * dW1_q \n",
    "    b1 = b1 - alpha * db1_q\n",
    "    W2 = W2 - alpha * dW2_q\n",
    "    b2 = b2 - alpha * db2_q\n",
    "    \n",
    "    return W1, b1, W2, b2"
   ]
  },
  {
   "cell_type": "code",
   "execution_count": 11,
   "id": "4407b5c0-08cf-4ee8-8167-92d6f68222a9",
   "metadata": {},
   "outputs": [],
   "source": [
    "def get_predictions(A2):\n",
    "    return np.argmax(A2, 0)"
   ]
  },
  {
   "cell_type": "code",
   "execution_count": 12,
   "id": "d6d41122-2c66-432e-ae86-4301a914e161",
   "metadata": {},
   "outputs": [],
   "source": [
    "def get_accuracy(predictions, Y):\n",
    "    #print(predictions, Y)\n",
    "    return (np.sum(predictions == Y) / Y.size)*100"
   ]
  },
  {
   "cell_type": "code",
   "execution_count": 13,
   "id": "7ee1fa2c-b6fd-4fac-9b89-0c8ef2e9e77b",
   "metadata": {},
   "outputs": [],
   "source": [
    "def gradient_descent(X, Y, alpha, iterations):\n",
    "    W1, b1, W2, b2 = init_params()\n",
    "    for i in range(iterations):\n",
    "        with tf.device('/device:GPU:0'):\n",
    "            Z1, A1, Z2, A2 = forward_prop(W1, b1, W2, b2, X)\n",
    "            dW1, db1, dW2, db2 = backward_prop(Z1, A1, Z2, A2, W1, W2, X, Y)\n",
    "            W1, b1, W2, b2 = update_params(W1, b1, W2, b2, dW1, db1, dW2, db2, alpha)\n",
    "        if i % 10 == 0:\n",
    "            print(\"Iteration: \", i)\n",
    "            predictions = get_predictions(A2)\n",
    "            print(get_accuracy(predictions, Y))\n",
    "            loss = compute_loss(A2, Y)\n",
    "            print(\"Loss: \", loss)\n",
    "    return W1, b1, W2, b2"
   ]
  },
  {
   "cell_type": "code",
   "execution_count": 14,
   "id": "70f61c8c-02c0-494f-8ed3-e54668da898b",
   "metadata": {},
   "outputs": [],
   "source": [
    "def make_predictions(X, W1, b1, W2, b2):\n",
    "    _, _, _, A2 = forward_prop(W1, b1, W2, b2, X)\n",
    "    predictions = get_predictions(A2)\n",
    "    return predictions"
   ]
  },
  {
   "cell_type": "code",
   "execution_count": 15,
   "id": "2198846a-0ea2-4c50-8cc9-658f0918eda4",
   "metadata": {},
   "outputs": [],
   "source": [
    "def test_prediction(index, W1, b1, W2, b2):\n",
    "    current_image = X_train[:, index, None]\n",
    "    prediction = make_predictions(X_train[:, index, None], W1, b1, W2, b2)\n",
    "    label = Y_train[index]\n",
    "    print(\"Prediction: \", prediction)\n",
    "    print(\"Label: \", label)\n",
    "    \n",
    "    current_image = current_image.reshape((28, 28)) * 255\n",
    "    plt.gray()\n",
    "    plt.imshow(current_image, interpolation='nearest')\n",
    "    plt.show()"
   ]
  },
  {
   "cell_type": "code",
   "execution_count": 16,
   "id": "22fa196d-2cdc-4d72-8d14-1f3f8bbfe36a",
   "metadata": {},
   "outputs": [],
   "source": [
    "def quantize(vals, n):\n",
    "    scale = 2**n - 1\n",
    "    q_vals = np.clip(vals * scale, -scale, scale)\n",
    "    q_vals = np.fix(q_vals) / scale\n",
    "    return q_vals"
   ]
  },
  {
   "cell_type": "code",
   "execution_count": 17,
   "id": "605ab98b-b964-4911-a5f4-a65e608e5be5",
   "metadata": {},
   "outputs": [],
   "source": [
    "def compute_loss(A2, Y):\n",
    "    one_hot_Y = one_hot(Y)\n",
    "    p = A2\n",
    "    gamma = 2  # Focal loss hyperparameter\n",
    "    loss = -(1 - p) ** gamma * np.log(p)\n",
    "    return np.mean(loss)"
   ]
  },
  {
   "cell_type": "code",
   "execution_count": null,
   "id": "1697ed5e-ee45-4302-83d5-7e5ec79bc858",
   "metadata": {},
   "outputs": [
    {
     "name": "stdout",
     "output_type": "stream",
     "text": [
      "Iteration:  0\n",
      "8.039024390243902\n",
      "Loss:  2.0579886\n",
      "Iteration:  10\n",
      "7.729268292682927\n",
      "Loss:  2.0271077\n",
      "Iteration:  20\n",
      "7.785365853658536\n",
      "Loss:  2.005813\n",
      "Iteration:  30\n",
      "7.892682926829268\n",
      "Loss:  1.9908073\n",
      "Iteration:  40\n",
      "8.097560975609756\n",
      "Loss:  1.9794334\n",
      "Iteration:  50\n",
      "8.624390243902438\n",
      "Loss:  1.9708602\n",
      "Iteration:  60\n",
      "9.13170731707317\n",
      "Loss:  1.9647229\n",
      "Iteration:  70\n",
      "9.770731707317074\n",
      "Loss:  1.9595737\n",
      "Iteration:  80\n",
      "11.324390243902439\n",
      "Loss:  1.9557121\n",
      "Iteration:  90\n",
      "12.317073170731707\n",
      "Loss:  1.9524688\n",
      "Iteration:  100\n",
      "13.287804878048782\n",
      "Loss:  1.9493846\n",
      "Iteration:  110\n",
      "14.51951219512195\n",
      "Loss:  1.9478722\n",
      "Iteration:  120\n",
      "15.646341463414634\n",
      "Loss:  1.9460487\n",
      "Iteration:  130\n",
      "16.67317073170732\n",
      "Loss:  1.9448724\n",
      "Iteration:  140\n",
      "17.568292682926828\n",
      "Loss:  1.9438108\n",
      "Iteration:  150\n",
      "18.485365853658536\n",
      "Loss:  1.943516\n",
      "Iteration:  160\n",
      "19.385365853658538\n",
      "Loss:  1.9429221\n",
      "Iteration:  170\n",
      "20.18536585365854\n",
      "Loss:  1.9431759\n",
      "Iteration:  180\n",
      "20.93170731707317\n",
      "Loss:  1.9434268\n",
      "Iteration:  190\n",
      "21.702439024390245\n",
      "Loss:  1.9436396\n",
      "Iteration:  200\n",
      "22.351219512195122\n",
      "Loss:  1.9441411\n",
      "Iteration:  210\n",
      "23.02439024390244\n",
      "Loss:  1.9449946\n",
      "Iteration:  220\n",
      "23.79512195121951\n",
      "Loss:  1.9461997\n",
      "Iteration:  230\n",
      "24.424390243902437\n",
      "Loss:  1.9475094\n",
      "Iteration:  240\n",
      "25.034146341463416\n",
      "Loss:  1.948928\n",
      "Iteration:  250\n",
      "25.67560975609756\n",
      "Loss:  1.9505432\n",
      "Iteration:  260\n",
      "26.126829268292685\n",
      "Loss:  1.952536\n",
      "Iteration:  270\n",
      "26.512195121951223\n",
      "Loss:  1.9544752\n",
      "Iteration:  280\n",
      "26.99268292682927\n",
      "Loss:  1.9568393\n",
      "Iteration:  290\n",
      "27.292682926829272\n",
      "Loss:  1.9591919\n",
      "Iteration:  300\n",
      "27.57804878048781\n",
      "Loss:  1.9616822\n",
      "Iteration:  310\n",
      "27.64878048780488\n",
      "Loss:  1.9637216\n",
      "Iteration:  320\n",
      "28.041463414634148\n",
      "Loss:  1.9663382\n",
      "Iteration:  330\n",
      "28.224390243902437\n",
      "Loss:  1.9689298\n",
      "Iteration:  340\n",
      "28.343902439024387\n",
      "Loss:  1.971587\n"
     ]
    }
   ],
   "source": [
    "W1, b1, W2, b2 = gradient_descent(X_train, Y_train, 0.01, 1500)"
   ]
  },
  {
   "cell_type": "code",
   "execution_count": null,
   "id": "89079630-3bd1-488e-9774-41720b851565",
   "metadata": {},
   "outputs": [],
   "source": [
    "test_prediction(0, W1, b1, W2, b2)\n",
    "test_prediction(1, W1, b1, W2, b2)\n",
    "test_prediction(2, W1, b1, W2, b2)\n",
    "test_prediction(3, W1, b1, W2, b2)"
   ]
  },
  {
   "cell_type": "code",
   "execution_count": null,
   "id": "04a4a032-cacd-484f-bc2e-932e80fa50fe",
   "metadata": {},
   "outputs": [],
   "source": [
    "dev_predictions = make_predictions(X_dev, W1, b1, W2, b2)"
   ]
  },
  {
   "cell_type": "code",
   "execution_count": null,
   "id": "190df447-bbeb-4e55-a8e1-cf5a655283c1",
   "metadata": {},
   "outputs": [],
   "source": [
    "print(\"Accuracy:\",get_accuracy(dev_predictions, Y_dev))"
   ]
  },
  {
   "cell_type": "code",
   "execution_count": null,
   "id": "14327a78-06ef-4f6a-8bf9-1a52a683246c",
   "metadata": {},
   "outputs": [],
   "source": [
    "# Calculate the total number of parameters\n",
    "total_params = (W1.size + b1.size + W2.size + b2.size)\n",
    "\n",
    "# Print the size of the model\n",
    "print(f\"The size of the model (total number of trainable parameters) is: {total_params}\")"
   ]
  },
  {
   "cell_type": "code",
   "execution_count": null,
   "id": "1532f345-0c14-4e1c-a598-e0fe45a432ff",
   "metadata": {},
   "outputs": [],
   "source": []
  },
  {
   "cell_type": "code",
   "execution_count": null,
   "id": "967bf5ef-bb35-4385-8071-9b5347446e26",
   "metadata": {},
   "outputs": [],
   "source": []
  },
  {
   "cell_type": "code",
   "execution_count": null,
   "id": "d92d0989-995c-43b3-9a19-f65542cb2ec3",
   "metadata": {},
   "outputs": [],
   "source": []
  },
  {
   "cell_type": "code",
   "execution_count": null,
   "id": "28a0d7fa-ee72-424f-b84c-587a579ef505",
   "metadata": {},
   "outputs": [],
   "source": []
  },
  {
   "cell_type": "code",
   "execution_count": null,
   "id": "01d2fa6e-5bc7-4e37-936d-6eadd3bfddaf",
   "metadata": {},
   "outputs": [],
   "source": []
  },
  {
   "cell_type": "code",
   "execution_count": null,
   "id": "23cf6481-e4b4-416b-89a0-d963c102257a",
   "metadata": {},
   "outputs": [],
   "source": []
  },
  {
   "cell_type": "code",
   "execution_count": null,
   "id": "a7622b7d-3b78-429d-90ef-0850b5018655",
   "metadata": {},
   "outputs": [],
   "source": []
  },
  {
   "cell_type": "code",
   "execution_count": null,
   "id": "4382124d-f4c5-4a5b-9d02-99cbb0c682b1",
   "metadata": {},
   "outputs": [],
   "source": []
  },
  {
   "cell_type": "code",
   "execution_count": null,
   "id": "fdeb1907-173e-4c5c-bb99-8c725f98a2b4",
   "metadata": {},
   "outputs": [],
   "source": []
  },
  {
   "cell_type": "code",
   "execution_count": null,
   "id": "56cf9a86-54d0-40db-b5ba-6036da4d32b7",
   "metadata": {},
   "outputs": [],
   "source": []
  },
  {
   "cell_type": "code",
   "execution_count": null,
   "id": "f1a72ca2-c75f-46e0-9e64-81554f6aea08",
   "metadata": {},
   "outputs": [],
   "source": []
  },
  {
   "cell_type": "code",
   "execution_count": null,
   "id": "3b171aea-ae66-4648-930a-62380d0cc821",
   "metadata": {},
   "outputs": [],
   "source": []
  },
  {
   "cell_type": "code",
   "execution_count": null,
   "id": "de35c1ef-3cba-40ba-ad0d-7ade9d7b52f7",
   "metadata": {},
   "outputs": [],
   "source": []
  },
  {
   "cell_type": "code",
   "execution_count": null,
   "id": "9ed797d0-b24c-4d1d-9a6d-a863f92ec5d3",
   "metadata": {},
   "outputs": [],
   "source": []
  },
  {
   "cell_type": "code",
   "execution_count": null,
   "id": "001a9205-2a15-43f8-b00f-0bd4e885e751",
   "metadata": {},
   "outputs": [],
   "source": []
  },
  {
   "cell_type": "code",
   "execution_count": null,
   "id": "c36317ff-3e17-4f9d-9f0c-8416308bbee5",
   "metadata": {},
   "outputs": [],
   "source": []
  },
  {
   "cell_type": "code",
   "execution_count": null,
   "id": "23548c1a-fa92-4b86-ac7a-c965ede25999",
   "metadata": {},
   "outputs": [],
   "source": []
  },
  {
   "cell_type": "code",
   "execution_count": null,
   "id": "28401b48-616c-46b6-b3a4-8b7c0421ad39",
   "metadata": {},
   "outputs": [],
   "source": []
  }
 ],
 "metadata": {
  "kernelspec": {
   "display_name": "Python 3 (ipykernel)",
   "language": "python",
   "name": "python3"
  },
  "language_info": {
   "codemirror_mode": {
    "name": "ipython",
    "version": 3
   },
   "file_extension": ".py",
   "mimetype": "text/x-python",
   "name": "python",
   "nbconvert_exporter": "python",
   "pygments_lexer": "ipython3",
   "version": "3.12.2"
  }
 },
 "nbformat": 4,
 "nbformat_minor": 5
}
